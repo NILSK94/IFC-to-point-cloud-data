{
 "cells": [
  {
   "cell_type": "code",
   "execution_count": null,
   "id": "633c16dc-1dd0-4dd7-814b-9ba2b68156da",
   "metadata": {},
   "outputs": [],
   "source": []
  }
 ],
 "metadata": {
  "kernelspec": {
   "display_name": "",
   "name": ""
  },
  "language_info": {
   "name": ""
  }
 },
 "nbformat": 4,
 "nbformat_minor": 5
}
